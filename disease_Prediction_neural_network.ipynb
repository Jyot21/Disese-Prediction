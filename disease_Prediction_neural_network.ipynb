{
 "cells": [
  {
   "cell_type": "code",
   "execution_count": 7,
   "metadata": {
    "colab": {},
    "colab_type": "code",
    "id": "mNXaPNBS1e0_"
   },
   "outputs": [],
   "source": [
    "import pandas as pd \n",
    "import numpy as np\n"
   ]
  },
  {
   "cell_type": "code",
   "execution_count": 11,
   "metadata": {
    "colab": {
     "base_uri": "https://localhost:8080/",
     "height": 74,
     "resources": {
      "http://localhost:8080/nbextensions/google.colab/files.js": {
       "data": "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",
       "headers": [
        [
         "content-type",
         "application/javascript"
        ]
       ],
       "ok": true,
       "status": 200,
       "status_text": "OK"
      }
     }
    },
    "colab_type": "code",
    "id": "TzAyk1141m-K",
    "outputId": "dbc4c4e1-32f8-49e2-d68d-b3c81d827cc0"
   },
   "outputs": [],
   "source": [
    "#for google colab you have to upload file manually to use it as dataFrame\n",
    "\"\"\"from google.colab import files\n",
    "uploaded = files.upload()\"\"\"\n",
    "dataFrame = pd.read_csv('Training.csv')"
   ]
  },
  {
   "cell_type": "code",
   "execution_count": 9,
   "metadata": {
    "colab": {
     "base_uri": "https://localhost:8080/",
     "height": 359
    },
    "colab_type": "code",
    "id": "byvHqGNL1tVt",
    "outputId": "dce4c9e9-67f9-428d-bf37-fdb5d1275fad"
   },
   "outputs": [
    {
     "data": {
      "text/plain": [
       "\"import io\\ndataFrame = pd.read_csv(io.BytesIO(uploaded['Training.csv']))\\ndataFrame.head()\""
      ]
     },
     "execution_count": 9,
     "metadata": {},
     "output_type": "execute_result"
    }
   ],
   "source": [
    "\"\"\"import io\n",
    "dataFrame = pd.read_csv(io.BytesIO(uploaded['Training.csv']))\n",
    "dataFrame.head()\"\"\""
   ]
  },
  {
   "cell_type": "code",
   "execution_count": 12,
   "metadata": {
    "colab": {},
    "colab_type": "code",
    "id": "n5LhMKNL5kyU"
   },
   "outputs": [],
   "source": [
    "\n",
    "from collections import Counter\n",
    "\n",
    "dataFrame = dataFrame.iloc[:,:133]\n"
   ]
  },
  {
   "cell_type": "code",
   "execution_count": 13,
   "metadata": {
    "colab": {
     "base_uri": "https://localhost:8080/",
     "height": 832
    },
    "colab_type": "code",
    "id": "pyRVdGTq7N5f",
    "outputId": "e87cb562-c991-4dea-d2b4-be3230684bf6"
   },
   "outputs": [
    {
     "data": {
      "text/plain": [
       "{'(vertigo) Paroymsal  Positional Vertigo': 1,\n",
       " 'AIDS': 2,\n",
       " 'Acne': 3,\n",
       " 'Alcoholic hepatitis': 4,\n",
       " 'Allergy': 5,\n",
       " 'Arthritis': 6,\n",
       " 'Bronchial Asthma': 7,\n",
       " 'Cervical spondylosis': 8,\n",
       " 'Chicken pox': 9,\n",
       " 'Chronic cholestasis': 10,\n",
       " 'Common Cold': 11,\n",
       " 'Dengue': 12,\n",
       " 'Diabetes ': 13,\n",
       " 'Dimorphic hemmorhoids(piles)': 14,\n",
       " 'Drug Reaction': 15,\n",
       " 'Fungal infection': 16,\n",
       " 'GERD': 17,\n",
       " 'Gastroenteritis': 18,\n",
       " 'Heart attack': 19,\n",
       " 'Hepatitis B': 20,\n",
       " 'Hepatitis C': 21,\n",
       " 'Hepatitis D': 22,\n",
       " 'Hepatitis E': 23,\n",
       " 'Hypertension ': 24,\n",
       " 'Hyperthyroidism': 25,\n",
       " 'Hypoglycemia': 26,\n",
       " 'Hypothyroidism': 27,\n",
       " 'Impetigo': 28,\n",
       " 'Jaundice': 29,\n",
       " 'Malaria': 30,\n",
       " 'Migraine': 31,\n",
       " 'Osteoarthristis': 32,\n",
       " 'Paralysis (brain hemorrhage)': 33,\n",
       " 'Peptic ulcer diseae': 34,\n",
       " 'Pneumonia': 35,\n",
       " 'Psoriasis': 36,\n",
       " 'Tuberculosis': 37,\n",
       " 'Typhoid': 38,\n",
       " 'Urinary tract infection': 39,\n",
       " 'Varicose veins': 40,\n",
       " 'hepatitis A': 41}"
      ]
     },
     "execution_count": 13,
     "metadata": {},
     "output_type": "execute_result"
    }
   ],
   "source": [
    "from tensorflow import keras\n",
    "\n",
    "disease = Counter(dataFrame['prognosis'])\n",
    "keys = disease.keys()\n",
    "\n",
    "diseases = sorted(list(keys))\n",
    "\n",
    "dictionary = {}\n",
    "for i, j in zip(diseases,range(1,42)):\n",
    "  dictionary[i] = j\n",
    "dictionary"
   ]
  },
  {
   "cell_type": "code",
   "execution_count": 14,
   "metadata": {
    "colab": {
     "base_uri": "https://localhost:8080/",
     "height": 148
    },
    "colab_type": "code",
    "id": "SkbsE6SXLiqM",
    "outputId": "a6bd1cbb-560f-42f0-c4af-037ee3ff1160"
   },
   "outputs": [
    {
     "data": {
      "text/plain": [
       "array([[0, 0, 0, ..., 0, 0, 0],\n",
       "       [0, 0, 0, ..., 0, 0, 0],\n",
       "       [0, 0, 0, ..., 0, 0, 0],\n",
       "       ...,\n",
       "       [0, 0, 0, ..., 1, 0, 0],\n",
       "       [0, 0, 0, ..., 0, 0, 0],\n",
       "       [0, 0, 0, ..., 0, 0, 0]])"
      ]
     },
     "execution_count": 14,
     "metadata": {},
     "output_type": "execute_result"
    }
   ],
   "source": [
    "Y = dataFrame['prognosis']\n",
    "#one hot encoding of Y or actual output\n",
    "prognosis = []\n",
    "for val in Y:\n",
    "  arr = [0 for i in range(41)]\n",
    "  index = dictionary[val]-1\n",
    "  arr[index] = 1\n",
    "  arr = np.array(arr)\n",
    "  prognosis.append(arr)\n",
    "\n",
    "prognosis = np.array(prognosis,dtype=int)\n",
    "prognosis"
   ]
  },
  {
   "cell_type": "code",
   "execution_count": 15,
   "metadata": {
    "colab": {
     "base_uri": "https://localhost:8080/",
     "height": 167
    },
    "colab_type": "code",
    "id": "QR87ZYaS6G9a",
    "outputId": "25d4ee17-9105-4439-a3a0-9f8b89e575ec"
   },
   "outputs": [
    {
     "data": {
      "text/plain": [
       "Index(['itching', 'skin_rash', 'nodal_skin_eruptions', 'continuous_sneezing',\n",
       "       'shivering', 'chills', 'joint_pain', 'stomach_pain', 'acidity',\n",
       "       'ulcers_on_tongue',\n",
       "       ...\n",
       "       'pus_filled_pimples', 'blackheads', 'scurring', 'skin_peeling',\n",
       "       'silver_like_dusting', 'small_dents_in_nails', 'inflammatory_nails',\n",
       "       'blister', 'red_sore_around_nose', 'yellow_crust_ooze'],\n",
       "      dtype='object', length=132)"
      ]
     },
     "execution_count": 15,
     "metadata": {},
     "output_type": "execute_result"
    }
   ],
   "source": [
    "\n",
    "labels = dataFrame.columns[:-1]\n",
    "labels"
   ]
  },
  {
   "cell_type": "code",
   "execution_count": 16,
   "metadata": {
    "colab": {},
    "colab_type": "code",
    "id": "Q4OGOHKf6XNp"
   },
   "outputs": [],
   "source": [
    "from sklearn.model_selection import train_test_split\n",
    "\n",
    "X_train, x_test, Y_train, y_test = train_test_split(dataFrame[labels].to_numpy(), prognosis, train_size=0.65,test_size=0.35, random_state=101)"
   ]
  },
  {
   "cell_type": "code",
   "execution_count": 17,
   "metadata": {
    "colab": {
     "base_uri": "https://localhost:8080/",
     "height": 260
    },
    "colab_type": "code",
    "id": "RCxg3r8F6fJB",
    "outputId": "4dc7fb64-ae43-416c-c8af-5653f302c347"
   },
   "outputs": [
    {
     "data": {
      "text/plain": [
       "(array([[0, 0, 0, ..., 0, 0, 0],\n",
       "        [0, 0, 0, ..., 0, 0, 0],\n",
       "        [0, 0, 0, ..., 0, 0, 0],\n",
       "        ...,\n",
       "        [0, 0, 0, ..., 0, 0, 0],\n",
       "        [0, 0, 0, ..., 0, 0, 0],\n",
       "        [0, 0, 0, ..., 0, 0, 0]], dtype=int64),\n",
       " array([[0, 0, 0, ..., 0, 0, 0],\n",
       "        [0, 0, 0, ..., 0, 0, 0],\n",
       "        [0, 0, 0, ..., 0, 1, 0],\n",
       "        ...,\n",
       "        [0, 0, 0, ..., 0, 0, 0],\n",
       "        [0, 0, 0, ..., 0, 0, 0],\n",
       "        [0, 0, 0, ..., 0, 0, 0]]))"
      ]
     },
     "execution_count": 17,
     "metadata": {},
     "output_type": "execute_result"
    }
   ],
   "source": [
    "X_train,Y_train"
   ]
  },
  {
   "cell_type": "code",
   "execution_count": 18,
   "metadata": {
    "colab": {},
    "colab_type": "code",
    "id": "pkRH8vzcPxiT"
   },
   "outputs": [],
   "source": [
    "from tensorflow import keras\n",
    "from tensorflow.keras.datasets import mnist\n",
    "from tensorflow.keras.models import Sequential\n",
    "from tensorflow.keras.layers import Dense, Dropout\n",
    "from tensorflow.keras.optimizers import RMSprop,Adam"
   ]
  },
  {
   "cell_type": "code",
   "execution_count": 19,
   "metadata": {
    "colab": {
     "base_uri": "https://localhost:8080/",
     "height": 241
    },
    "colab_type": "code",
    "id": "Yaffn-UaQ5E1",
    "outputId": "d49ef793-b5cd-43a6-ba67-12c0aedc5dbc"
   },
   "outputs": [
    {
     "name": "stdout",
     "output_type": "stream",
     "text": [
      "Model: \"sequential\"\n",
      "_________________________________________________________________\n",
      "Layer (type)                 Output Shape              Param #   \n",
      "=================================================================\n",
      "dense (Dense)                (None, 512)               68096     \n",
      "_________________________________________________________________\n",
      "dense_1 (Dense)              (None, 41)                21033     \n",
      "=================================================================\n",
      "Total params: 89,129\n",
      "Trainable params: 89,129\n",
      "Non-trainable params: 0\n",
      "_________________________________________________________________\n"
     ]
    }
   ],
   "source": [
    "model = Sequential()\n",
    "model.add(Dense(512, activation='relu', input_shape=(132,)))\n",
    "#model.add(Dense(256,activation='relu'))\n",
    "model.add(Dense(41, activation='softmax'))\n",
    "model.summary()"
   ]
  },
  {
   "cell_type": "code",
   "execution_count": 0,
   "metadata": {
    "colab": {},
    "colab_type": "code",
    "id": "kwB3Wc7NRPma"
   },
   "outputs": [],
   "source": [
    "model.compile(loss='categorical_crossentropy',\n",
    "              optimizer=Adam(lr= 0.01),\n",
    "              metrics=['accuracy'])"
   ]
  },
  {
   "cell_type": "code",
   "execution_count": 0,
   "metadata": {
    "colab": {
     "base_uri": "https://localhost:8080/",
     "height": 1000
    },
    "colab_type": "code",
    "id": "4OP7t4YIRefl",
    "outputId": "07dfd7b8-9372-44ad-9482-c8e27c250bbc"
   },
   "outputs": [
    {
     "name": "stdout",
     "output_type": "stream",
     "text": [
      "Train on 3198 samples\n",
      "Epoch 1/100\n",
      "3198/3198 - 0s - loss: 0.4487 - acc: 0.9428\n",
      "Epoch 2/100\n",
      "3198/3198 - 0s - loss: 2.2582e-04 - acc: 1.0000\n",
      "Epoch 3/100\n",
      "3198/3198 - 0s - loss: 7.0607e-05 - acc: 1.0000\n",
      "Epoch 4/100\n",
      "3198/3198 - 0s - loss: 5.5112e-05 - acc: 1.0000\n",
      "Epoch 5/100\n",
      "3198/3198 - 0s - loss: 4.3847e-05 - acc: 1.0000\n",
      "Epoch 6/100\n",
      "3198/3198 - 0s - loss: 3.7422e-05 - acc: 1.0000\n",
      "Epoch 7/100\n",
      "3198/3198 - 0s - loss: 3.2981e-05 - acc: 1.0000\n",
      "Epoch 8/100\n",
      "3198/3198 - 0s - loss: 3.0418e-05 - acc: 1.0000\n",
      "Epoch 9/100\n",
      "3198/3198 - 0s - loss: 2.6268e-05 - acc: 1.0000\n",
      "Epoch 10/100\n",
      "3198/3198 - 0s - loss: 2.3838e-05 - acc: 1.0000\n",
      "Epoch 11/100\n",
      "3198/3198 - 0s - loss: 2.1417e-05 - acc: 1.0000\n",
      "Epoch 12/100\n",
      "3198/3198 - 0s - loss: 1.9388e-05 - acc: 1.0000\n",
      "Epoch 13/100\n",
      "3198/3198 - 0s - loss: 1.7745e-05 - acc: 1.0000\n",
      "Epoch 14/100\n",
      "3198/3198 - 0s - loss: 1.5960e-05 - acc: 1.0000\n",
      "Epoch 15/100\n",
      "3198/3198 - 0s - loss: 1.4863e-05 - acc: 1.0000\n",
      "Epoch 16/100\n",
      "3198/3198 - 0s - loss: 1.3737e-05 - acc: 1.0000\n",
      "Epoch 17/100\n",
      "3198/3198 - 0s - loss: 1.2967e-05 - acc: 1.0000\n",
      "Epoch 18/100\n",
      "3198/3198 - 0s - loss: 1.2086e-05 - acc: 1.0000\n",
      "Epoch 19/100\n",
      "3198/3198 - 0s - loss: 1.0859e-05 - acc: 1.0000\n",
      "Epoch 20/100\n",
      "3198/3198 - 0s - loss: 1.0183e-05 - acc: 1.0000\n",
      "Epoch 21/100\n",
      "3198/3198 - 0s - loss: 9.4534e-06 - acc: 1.0000\n",
      "Epoch 22/100\n",
      "3198/3198 - 0s - loss: 8.9958e-06 - acc: 1.0000\n",
      "Epoch 23/100\n",
      "3198/3198 - 0s - loss: 8.3138e-06 - acc: 1.0000\n",
      "Epoch 24/100\n",
      "3198/3198 - 0s - loss: 7.8116e-06 - acc: 1.0000\n",
      "Epoch 25/100\n",
      "3198/3198 - 0s - loss: 7.3999e-06 - acc: 1.0000\n",
      "Epoch 26/100\n",
      "3198/3198 - 0s - loss: 7.0206e-06 - acc: 1.0000\n",
      "Epoch 27/100\n",
      "3198/3198 - 0s - loss: 6.5562e-06 - acc: 1.0000\n",
      "Epoch 28/100\n",
      "3198/3198 - 0s - loss: 6.2625e-06 - acc: 1.0000\n",
      "Epoch 29/100\n",
      "3198/3198 - 0s - loss: 5.9469e-06 - acc: 1.0000\n",
      "Epoch 30/100\n",
      "3198/3198 - 0s - loss: 5.6081e-06 - acc: 1.0000\n",
      "Epoch 31/100\n",
      "3198/3198 - 0s - loss: 5.3393e-06 - acc: 1.0000\n",
      "Epoch 32/100\n",
      "3198/3198 - 0s - loss: 5.1281e-06 - acc: 1.0000\n",
      "Epoch 33/100\n",
      "3198/3198 - 0s - loss: 4.8543e-06 - acc: 1.0000\n",
      "Epoch 34/100\n",
      "3198/3198 - 0s - loss: 4.5981e-06 - acc: 1.0000\n",
      "Epoch 35/100\n",
      "3198/3198 - 0s - loss: 4.3895e-06 - acc: 1.0000\n",
      "Epoch 36/100\n",
      "3198/3198 - 0s - loss: 4.1829e-06 - acc: 1.0000\n",
      "Epoch 37/100\n",
      "3198/3198 - 0s - loss: 4.0064e-06 - acc: 1.0000\n",
      "Epoch 38/100\n",
      "3198/3198 - 0s - loss: 3.8614e-06 - acc: 1.0000\n",
      "Epoch 39/100\n",
      "3198/3198 - 0s - loss: 3.7071e-06 - acc: 1.0000\n",
      "Epoch 40/100\n",
      "3198/3198 - 0s - loss: 3.5566e-06 - acc: 1.0000\n",
      "Epoch 41/100\n",
      "3198/3198 - 0s - loss: 3.4078e-06 - acc: 1.0000\n",
      "Epoch 42/100\n",
      "3198/3198 - 0s - loss: 3.2619e-06 - acc: 1.0000\n",
      "Epoch 43/100\n",
      "3198/3198 - 0s - loss: 3.1422e-06 - acc: 1.0000\n",
      "Epoch 44/100\n",
      "3198/3198 - 0s - loss: 3.0551e-06 - acc: 1.0000\n",
      "Epoch 45/100\n",
      "3198/3198 - 0s - loss: 2.9222e-06 - acc: 1.0000\n",
      "Epoch 46/100\n",
      "3198/3198 - 0s - loss: 2.8150e-06 - acc: 1.0000\n",
      "Epoch 47/100\n",
      "3198/3198 - 0s - loss: 2.7181e-06 - acc: 1.0000\n",
      "Epoch 48/100\n",
      "3198/3198 - 0s - loss: 2.6466e-06 - acc: 1.0000\n",
      "Epoch 49/100\n",
      "3198/3198 - 0s - loss: 2.5252e-06 - acc: 1.0000\n",
      "Epoch 50/100\n",
      "3198/3198 - 0s - loss: 2.4313e-06 - acc: 1.0000\n",
      "Epoch 51/100\n",
      "3198/3198 - 0s - loss: 2.3597e-06 - acc: 1.0000\n",
      "Epoch 52/100\n",
      "3198/3198 - 0s - loss: 2.2814e-06 - acc: 1.0000\n",
      "Epoch 53/100\n",
      "3198/3198 - 0s - loss: 2.2022e-06 - acc: 1.0000\n",
      "Epoch 54/100\n",
      "3198/3198 - 0s - loss: 2.1274e-06 - acc: 1.0000\n",
      "Epoch 55/100\n",
      "3198/3198 - 0s - loss: 2.0656e-06 - acc: 1.0000\n",
      "Epoch 56/100\n",
      "3198/3198 - 0s - loss: 2.0055e-06 - acc: 1.0000\n",
      "Epoch 57/100\n",
      "3198/3198 - 0s - loss: 1.9377e-06 - acc: 1.0000\n",
      "Epoch 58/100\n",
      "3198/3198 - 0s - loss: 1.8743e-06 - acc: 1.0000\n",
      "Epoch 59/100\n",
      "3198/3198 - 0s - loss: 1.8089e-06 - acc: 1.0000\n",
      "Epoch 60/100\n",
      "3198/3198 - 0s - loss: 1.7637e-06 - acc: 1.0000\n",
      "Epoch 61/100\n",
      "3198/3198 - 0s - loss: 1.6980e-06 - acc: 1.0000\n",
      "Epoch 62/100\n",
      "3198/3198 - 0s - loss: 1.6521e-06 - acc: 1.0000\n",
      "Epoch 63/100\n",
      "3198/3198 - 0s - loss: 1.5960e-06 - acc: 1.0000\n",
      "Epoch 64/100\n",
      "3198/3198 - 0s - loss: 1.5442e-06 - acc: 1.0000\n",
      "Epoch 65/100\n",
      "3198/3198 - 0s - loss: 1.5111e-06 - acc: 1.0000\n",
      "Epoch 66/100\n",
      "3198/3198 - 0s - loss: 1.4545e-06 - acc: 1.0000\n",
      "Epoch 67/100\n",
      "3198/3198 - 0s - loss: 1.4149e-06 - acc: 1.0000\n",
      "Epoch 68/100\n",
      "3198/3198 - 0s - loss: 1.3751e-06 - acc: 1.0000\n",
      "Epoch 69/100\n",
      "3198/3198 - 0s - loss: 1.3385e-06 - acc: 1.0000\n",
      "Epoch 70/100\n",
      "3198/3198 - 0s - loss: 1.2990e-06 - acc: 1.0000\n",
      "Epoch 71/100\n",
      "3198/3198 - 0s - loss: 1.2634e-06 - acc: 1.0000\n",
      "Epoch 72/100\n",
      "3198/3198 - 0s - loss: 1.2268e-06 - acc: 1.0000\n",
      "Epoch 73/100\n",
      "3198/3198 - 0s - loss: 1.2035e-06 - acc: 1.0000\n",
      "Epoch 74/100\n",
      "3198/3198 - 0s - loss: 1.1682e-06 - acc: 1.0000\n",
      "Epoch 75/100\n",
      "3198/3198 - 0s - loss: 1.1346e-06 - acc: 1.0000\n",
      "Epoch 76/100\n",
      "3198/3198 - 0s - loss: 1.1154e-06 - acc: 1.0000\n",
      "Epoch 77/100\n",
      "3198/3198 - 0s - loss: 1.0856e-06 - acc: 1.0000\n",
      "Epoch 78/100\n",
      "3198/3198 - 0s - loss: 1.0510e-06 - acc: 1.0000\n",
      "Epoch 79/100\n",
      "3198/3198 - 0s - loss: 1.0238e-06 - acc: 1.0000\n",
      "Epoch 80/100\n",
      "3198/3198 - 0s - loss: 9.9157e-07 - acc: 1.0000\n",
      "Epoch 81/100\n",
      "3198/3198 - 0s - loss: 9.6536e-07 - acc: 1.0000\n",
      "Epoch 82/100\n",
      "3198/3198 - 0s - loss: 9.3871e-07 - acc: 1.0000\n",
      "Epoch 83/100\n",
      "3198/3198 - 0s - loss: 9.1497e-07 - acc: 1.0000\n",
      "Epoch 84/100\n",
      "3198/3198 - 0s - loss: 8.9253e-07 - acc: 1.0000\n",
      "Epoch 85/100\n",
      "3198/3198 - 0s - loss: 8.7836e-07 - acc: 1.0000\n",
      "Epoch 86/100\n",
      "3198/3198 - 0s - loss: 8.5123e-07 - acc: 1.0000\n",
      "Epoch 87/100\n",
      "3198/3198 - 0s - loss: 8.2942e-07 - acc: 1.0000\n",
      "Epoch 88/100\n",
      "3198/3198 - 0s - loss: 8.1123e-07 - acc: 1.0000\n",
      "Epoch 89/100\n",
      "3198/3198 - 0s - loss: 7.9125e-07 - acc: 1.0000\n",
      "Epoch 90/100\n",
      "3198/3198 - 0s - loss: 7.7261e-07 - acc: 1.0000\n",
      "Epoch 91/100\n",
      "3198/3198 - 0s - loss: 7.5297e-07 - acc: 1.0000\n",
      "Epoch 92/100\n",
      "3198/3198 - 0s - loss: 7.3720e-07 - acc: 1.0000\n",
      "Epoch 93/100\n",
      "3198/3198 - 0s - loss: 7.1737e-07 - acc: 1.0000\n",
      "Epoch 94/100\n",
      "3198/3198 - 0s - loss: 6.9758e-07 - acc: 1.0000\n",
      "Epoch 95/100\n",
      "3198/3198 - 0s - loss: 6.8341e-07 - acc: 1.0000\n",
      "Epoch 96/100\n",
      "3198/3198 - 0s - loss: 6.6824e-07 - acc: 1.0000\n",
      "Epoch 97/100\n",
      "3198/3198 - 0s - loss: 6.5512e-07 - acc: 1.0000\n",
      "Epoch 98/100\n",
      "3198/3198 - 0s - loss: 6.3898e-07 - acc: 1.0000\n",
      "Epoch 99/100\n",
      "3198/3198 - 0s - loss: 6.2418e-07 - acc: 1.0000\n",
      "Epoch 100/100\n",
      "3198/3198 - 0s - loss: 6.0972e-07 - acc: 1.0000\n"
     ]
    },
    {
     "data": {
      "text/plain": [
       "<tensorflow.python.keras.callbacks.History at 0x7fbad1bcae10>"
      ]
     },
     "execution_count": 54,
     "metadata": {
      "tags": []
     },
     "output_type": "execute_result"
    }
   ],
   "source": [
    "model.fit(X_train,Y_train,\n",
    "                    batch_size=100,\n",
    "                    epochs=100,\n",
    "                    verbose=2)"
   ]
  },
  {
   "cell_type": "code",
   "execution_count": 0,
   "metadata": {
    "colab": {
     "base_uri": "https://localhost:8080/",
     "height": 36
    },
    "colab_type": "code",
    "id": "FkNTr3IL8_fL",
    "outputId": "ab0b6de2-c49a-42ab-c0f2-01ff5fb58cd0"
   },
   "outputs": [
    {
     "data": {
      "text/plain": [
       "1.0"
      ]
     },
     "execution_count": 71,
     "metadata": {
      "tags": []
     },
     "output_type": "execute_result"
    }
   ],
   "source": [
    "from sklearn.metrics import accuracy_score\n",
    "preds = model.predict(x_test)\n",
    "\n",
    "#reverse one hot encoding of predictions\n",
    "pred_zero_hot = []\n",
    "for row in preds:\n",
    "  maxy = max(row)\n",
    "  for i in range(len(row)):\n",
    "    if row[i] == maxy:\n",
    "      pred_zero_hot.append(i+1)\n",
    "pred_zero_hot = np.array(pred_zero_hot)\n",
    "\n",
    "#reverse one hot encoding of y_test (actual output)\n",
    "\n",
    "y_real = []\n",
    "for row in y_test:\n",
    "  maxy = max(row)\n",
    "  for i in range(len(row)):\n",
    "    if row[i] == maxy:\n",
    "      y_real.append(i+1)\n",
    "y_real = np.array(y_real)\n",
    "\n",
    "accuracy_score(pred_zero_hot,y_real)"
   ]
  },
  {
   "cell_type": "code",
   "execution_count": 0,
   "metadata": {
    "colab": {},
    "colab_type": "code",
    "id": "ESTElp3sRx5I"
   },
   "outputs": [],
   "source": [
    "from tensorflow.keras.layers import Dense\n",
    "from tensorflow.keras.models import Sequential\n",
    "\n",
    "def create_model():\n",
    "    model = Sequential()\n",
    "    model.add(Dense(256, input_dim=132, kernel_initializer='normal', activation='relu'))\n",
    "    model.add(Dense(256, kernel_initializer='normal', activation='relu'))\n",
    "    model.add(Dense(41, kernel_initializer='normal', activation='softmax'))\n",
    "    model.compile(loss='categorical_crossentropy', optimizer='adam', metrics=['accuracy'])\n",
    "    return model"
   ]
  },
  {
   "cell_type": "code",
   "execution_count": 0,
   "metadata": {
    "colab": {
     "base_uri": "https://localhost:8080/",
     "height": 36
    },
    "colab_type": "code",
    "id": "1OPcAjx35Sna",
    "outputId": "5ee9ebbb-b8f9-496c-b8db-0e6ee6ec4fdb"
   },
   "outputs": [
    {
     "data": {
      "text/plain": [
       "1.0"
      ]
     },
     "execution_count": 56,
     "metadata": {
      "tags": []
     },
     "output_type": "execute_result"
    }
   ],
   "source": [
    "from tensorflow.keras.wrappers.scikit_learn import KerasClassifier\n",
    "from sklearn.model_selection import cross_val_score\n",
    "# Wrap our Keras model in an estimator compatible with scikit_learn\n",
    "\n",
    "estimator = KerasClassifier(build_fn=create_model, epochs=10, verbose=0)\n",
    "\n",
    "# Now we can use scikit_learn's cross_val_score to evaluate this model identically to the others\n",
    "cv_scores = cross_val_score(estimator, X_train,Y_train, cv=10)\n",
    "cv_scores.mean()"
   ]
  },
  {
   "cell_type": "code",
   "execution_count": 0,
   "metadata": {
    "colab": {},
    "colab_type": "code",
    "id": "2M_lxSh95ht0"
   },
   "outputs": [],
   "source": []
  }
 ],
 "metadata": {
  "colab": {
   "name": "disease Prediction neural network",
   "provenance": []
  },
  "kernelspec": {
   "display_name": "Python 3",
   "language": "python",
   "name": "python3"
  },
  "language_info": {
   "codemirror_mode": {
    "name": "ipython",
    "version": 3
   },
   "file_extension": ".py",
   "mimetype": "text/x-python",
   "name": "python",
   "nbconvert_exporter": "python",
   "pygments_lexer": "ipython3",
   "version": "3.7.6"
  }
 },
 "nbformat": 4,
 "nbformat_minor": 1
}
